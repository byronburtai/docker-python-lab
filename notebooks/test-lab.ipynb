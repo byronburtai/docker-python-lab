{
 "cells": [
  {
   "cell_type": "code",
   "execution_count": 3,
   "id": "cba85e57-ecd1-4c76-b67f-9b611187e265",
   "metadata": {},
   "outputs": [
    {
     "data": {
      "text/html": [
       "<div>\n",
       "<style scoped>\n",
       "    .dataframe tbody tr th:only-of-type {\n",
       "        vertical-align: middle;\n",
       "    }\n",
       "\n",
       "    .dataframe tbody tr th {\n",
       "        vertical-align: top;\n",
       "    }\n",
       "\n",
       "    .dataframe thead th {\n",
       "        text-align: right;\n",
       "    }\n",
       "</style>\n",
       "<table border=\"1\" class=\"dataframe\">\n",
       "  <thead>\n",
       "    <tr style=\"text-align: right;\">\n",
       "      <th></th>\n",
       "      <th>date</th>\n",
       "      <th>product_id</th>\n",
       "      <th>product_name</th>\n",
       "      <th>units_sold</th>\n",
       "      <th>unit_price</th>\n",
       "      <th>total_revenue</th>\n",
       "    </tr>\n",
       "  </thead>\n",
       "  <tbody>\n",
       "    <tr>\n",
       "      <th>0</th>\n",
       "      <td>2025-09-01</td>\n",
       "      <td>P001</td>\n",
       "      <td>Wireless Mouse</td>\n",
       "      <td>12</td>\n",
       "      <td>25.99</td>\n",
       "      <td>311.88</td>\n",
       "    </tr>\n",
       "    <tr>\n",
       "      <th>1</th>\n",
       "      <td>2025-09-01</td>\n",
       "      <td>P002</td>\n",
       "      <td>USB-C Hub</td>\n",
       "      <td>8</td>\n",
       "      <td>39.99</td>\n",
       "      <td>319.92</td>\n",
       "    </tr>\n",
       "    <tr>\n",
       "      <th>2</th>\n",
       "      <td>2025-09-02</td>\n",
       "      <td>P003</td>\n",
       "      <td>Mechanical Keyboard</td>\n",
       "      <td>5</td>\n",
       "      <td>89.99</td>\n",
       "      <td>449.95</td>\n",
       "    </tr>\n",
       "    <tr>\n",
       "      <th>3</th>\n",
       "      <td>2025-09-02</td>\n",
       "      <td>P001</td>\n",
       "      <td>Wireless Mouse</td>\n",
       "      <td>7</td>\n",
       "      <td>25.99</td>\n",
       "      <td>181.93</td>\n",
       "    </tr>\n",
       "    <tr>\n",
       "      <th>4</th>\n",
       "      <td>2025-09-03</td>\n",
       "      <td>P004</td>\n",
       "      <td>Webcam HD</td>\n",
       "      <td>10</td>\n",
       "      <td>49.99</td>\n",
       "      <td>499.90</td>\n",
       "    </tr>\n",
       "  </tbody>\n",
       "</table>\n",
       "</div>"
      ],
      "text/plain": [
       "         date product_id         product_name  units_sold  unit_price  \\\n",
       "0  2025-09-01       P001       Wireless Mouse          12       25.99   \n",
       "1  2025-09-01       P002            USB-C Hub           8       39.99   \n",
       "2  2025-09-02       P003  Mechanical Keyboard           5       89.99   \n",
       "3  2025-09-02       P001       Wireless Mouse           7       25.99   \n",
       "4  2025-09-03       P004            Webcam HD          10       49.99   \n",
       "\n",
       "   total_revenue  \n",
       "0         311.88  \n",
       "1         319.92  \n",
       "2         449.95  \n",
       "3         181.93  \n",
       "4         499.90  "
      ]
     },
     "execution_count": 3,
     "metadata": {},
     "output_type": "execute_result"
    }
   ],
   "source": [
    "import pandas as pd\n",
    "df = pd.read_csv('../data/sample.csv')\n",
    "df.head()"
   ]
  },
  {
   "cell_type": "code",
   "execution_count": null,
   "id": "c6f6e2bd-75a9-46aa-aa8d-adf3de73a44e",
   "metadata": {},
   "outputs": [],
   "source": []
  }
 ],
 "metadata": {
  "kernelspec": {
   "display_name": "Python 3 (ipykernel)",
   "language": "python",
   "name": "python3"
  },
  "language_info": {
   "codemirror_mode": {
    "name": "ipython",
    "version": 3
   },
   "file_extension": ".py",
   "mimetype": "text/x-python",
   "name": "python",
   "nbconvert_exporter": "python",
   "pygments_lexer": "ipython3",
   "version": "3.12.11"
  }
 },
 "nbformat": 4,
 "nbformat_minor": 5
}
